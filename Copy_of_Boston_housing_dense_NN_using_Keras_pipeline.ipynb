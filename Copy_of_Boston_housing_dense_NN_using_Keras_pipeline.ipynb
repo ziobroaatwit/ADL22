{
  "nbformat": 4,
  "nbformat_minor": 0,
  "metadata": {
    "colab": {
      "name": "Copy of Boston housing dense NN using Keras pipeline.ipynb",
      "provenance": [],
      "collapsed_sections": [],
      "include_colab_link": true
    },
    "kernelspec": {
      "name": "python3",
      "display_name": "Python 3"
    }
  },
  "cells": [
    {
      "cell_type": "markdown",
      "metadata": {
        "id": "view-in-github",
        "colab_type": "text"
      },
      "source": [
        "<a href=\"https://colab.research.google.com/github/ziobroaatwit/ADL22/blob/main/Copy_of_Boston_housing_dense_NN_using_Keras_pipeline.ipynb\" target=\"_parent\"><img src=\"https://colab.research.google.com/assets/colab-badge.svg\" alt=\"Open In Colab\"/></a>"
      ]
    },
    {
      "cell_type": "markdown",
      "metadata": {
        "id": "ILF1_PzO5HBl"
      },
      "source": [
        "## Predicting house prices\n",
        "\n",
        "The idea is borrowed from  Chollet (2017, p.85) [Git link](https://github.com/fchollet/deep-learning-with-python-notebooks/blob/master/3.7-predicting-house-prices.ipynb)\n",
        "\n",
        "Solves regression problem using scikit LinReg and a fully connected NN designed with Keras.\n",
        "\n",
        "See Chollet [Git link](https://github.com/fchollet/deep-learning-with-python-notebooks/blob/master/3.7-predicting-house-prices.ipynb) for K-fold validation.\n",
        "\n",
        "Given datappoints about the housing in Boston in mid 70's, predict sale price"
      ]
    },
    {
      "cell_type": "code",
      "metadata": {
        "id": "g0vsOdIG-7SP"
      },
      "source": [
        "import numpy as np\n",
        "import pandas as pd\n",
        "import matplotlib.pyplot as plt\n",
        "import tensorflow.keras as keras"
      ],
      "execution_count": 1,
      "outputs": []
    },
    {
      "cell_type": "code",
      "metadata": {
        "id": "NSG_5pNv4fPW"
      },
      "source": [
        "%tensorflow_version 2.x\n",
        "# from tensorflow.keras.datasets import boston_housing"
      ],
      "execution_count": 2,
      "outputs": []
    },
    {
      "cell_type": "code",
      "metadata": {
        "id": "yfD5jxeH9CfP",
        "colab": {
          "base_uri": "https://localhost:8080/"
        },
        "outputId": "317c314e-44f1-49a4-b604-f86437e882e0"
      },
      "source": [
        "#scikit version has descriptions:\n",
        "from sklearn.datasets import load_boston\n",
        "boston = load_boston()\n",
        "print(boston.DESCR)"
      ],
      "execution_count": 3,
      "outputs": [
        {
          "output_type": "stream",
          "name": "stdout",
          "text": [
            ".. _boston_dataset:\n",
            "\n",
            "Boston house prices dataset\n",
            "---------------------------\n",
            "\n",
            "**Data Set Characteristics:**  \n",
            "\n",
            "    :Number of Instances: 506 \n",
            "\n",
            "    :Number of Attributes: 13 numeric/categorical predictive. Median Value (attribute 14) is usually the target.\n",
            "\n",
            "    :Attribute Information (in order):\n",
            "        - CRIM     per capita crime rate by town\n",
            "        - ZN       proportion of residential land zoned for lots over 25,000 sq.ft.\n",
            "        - INDUS    proportion of non-retail business acres per town\n",
            "        - CHAS     Charles River dummy variable (= 1 if tract bounds river; 0 otherwise)\n",
            "        - NOX      nitric oxides concentration (parts per 10 million)\n",
            "        - RM       average number of rooms per dwelling\n",
            "        - AGE      proportion of owner-occupied units built prior to 1940\n",
            "        - DIS      weighted distances to five Boston employment centres\n",
            "        - RAD      index of accessibility to radial highways\n",
            "        - TAX      full-value property-tax rate per $10,000\n",
            "        - PTRATIO  pupil-teacher ratio by town\n",
            "        - B        1000(Bk - 0.63)^2 where Bk is the proportion of black people by town\n",
            "        - LSTAT    % lower status of the population\n",
            "        - MEDV     Median value of owner-occupied homes in $1000's\n",
            "\n",
            "    :Missing Attribute Values: None\n",
            "\n",
            "    :Creator: Harrison, D. and Rubinfeld, D.L.\n",
            "\n",
            "This is a copy of UCI ML housing dataset.\n",
            "https://archive.ics.uci.edu/ml/machine-learning-databases/housing/\n",
            "\n",
            "\n",
            "This dataset was taken from the StatLib library which is maintained at Carnegie Mellon University.\n",
            "\n",
            "The Boston house-price data of Harrison, D. and Rubinfeld, D.L. 'Hedonic\n",
            "prices and the demand for clean air', J. Environ. Economics & Management,\n",
            "vol.5, 81-102, 1978.   Used in Belsley, Kuh & Welsch, 'Regression diagnostics\n",
            "...', Wiley, 1980.   N.B. Various transformations are used in the table on\n",
            "pages 244-261 of the latter.\n",
            "\n",
            "The Boston house-price data has been used in many machine learning papers that address regression\n",
            "problems.   \n",
            "     \n",
            ".. topic:: References\n",
            "\n",
            "   - Belsley, Kuh & Welsch, 'Regression diagnostics: Identifying Influential Data and Sources of Collinearity', Wiley, 1980. 244-261.\n",
            "   - Quinlan,R. (1993). Combining Instance-Based and Model-Based Learning. In Proceedings on the Tenth International Conference of Machine Learning, 236-243, University of Massachusetts, Amherst. Morgan Kaufmann.\n",
            "\n"
          ]
        },
        {
          "output_type": "stream",
          "name": "stderr",
          "text": [
            "/usr/local/lib/python3.7/dist-packages/sklearn/utils/deprecation.py:87: FutureWarning: Function load_boston is deprecated; `load_boston` is deprecated in 1.0 and will be removed in 1.2.\n",
            "\n",
            "    The Boston housing prices dataset has an ethical problem. You can refer to\n",
            "    the documentation of this function for further details.\n",
            "\n",
            "    The scikit-learn maintainers therefore strongly discourage the use of this\n",
            "    dataset unless the purpose of the code is to study and educate about\n",
            "    ethical issues in data science and machine learning.\n",
            "\n",
            "    In this special case, you can fetch the dataset from the original\n",
            "    source::\n",
            "\n",
            "        import pandas as pd\n",
            "        import numpy as np\n",
            "\n",
            "\n",
            "        data_url = \"http://lib.stat.cmu.edu/datasets/boston\"\n",
            "        raw_df = pd.read_csv(data_url, sep=\"\\s+\", skiprows=22, header=None)\n",
            "        data = np.hstack([raw_df.values[::2, :], raw_df.values[1::2, :2]])\n",
            "        target = raw_df.values[1::2, 2]\n",
            "\n",
            "    Alternative datasets include the California housing dataset (i.e.\n",
            "    :func:`~sklearn.datasets.fetch_california_housing`) and the Ames housing\n",
            "    dataset. You can load the datasets as follows::\n",
            "\n",
            "        from sklearn.datasets import fetch_california_housing\n",
            "        housing = fetch_california_housing()\n",
            "\n",
            "    for the California housing dataset and::\n",
            "\n",
            "        from sklearn.datasets import fetch_openml\n",
            "        housing = fetch_openml(name=\"house_prices\", as_frame=True)\n",
            "\n",
            "    for the Ames housing dataset.\n",
            "    \n",
            "  warnings.warn(msg, category=FutureWarning)\n"
          ]
        }
      ]
    },
    {
      "cell_type": "code",
      "metadata": {
        "id": "WRifmFXJ9wIj",
        "colab": {
          "base_uri": "https://localhost:8080/"
        },
        "outputId": "dd18b234-c687-43b4-da25-ce8a33ce0841"
      },
      "source": [
        "#Format: Dictionary \n",
        "# print(boston.keys())\n",
        "#Size it up\n",
        "print(boston.data.shape)\n",
        "#What are the 13 features?\n",
        "print(boston.feature_names)\n",
        "\n",
        "boston.target.shape"
      ],
      "execution_count": 4,
      "outputs": [
        {
          "output_type": "stream",
          "name": "stdout",
          "text": [
            "(506, 13)\n",
            "['CRIM' 'ZN' 'INDUS' 'CHAS' 'NOX' 'RM' 'AGE' 'DIS' 'RAD' 'TAX' 'PTRATIO'\n",
            " 'B' 'LSTAT']\n"
          ]
        },
        {
          "output_type": "execute_result",
          "data": {
            "text/plain": [
              "(506,)"
            ]
          },
          "metadata": {},
          "execution_count": 4
        }
      ]
    },
    {
      "cell_type": "code",
      "metadata": {
        "id": "OqoSiTxN-iUf",
        "colab": {
          "base_uri": "https://localhost:8080/",
          "height": 300
        },
        "outputId": "9ac51830-4f61-40a1-8c73-01588c6ac133"
      },
      "source": [
        "#info on the data.\n",
        "#pandas are pretty. \n",
        "df = pd.DataFrame(boston.data)\n",
        "df.describe()"
      ],
      "execution_count": 5,
      "outputs": [
        {
          "output_type": "execute_result",
          "data": {
            "text/plain": [
              "               0           1           2           3           4           5   \\\n",
              "count  506.000000  506.000000  506.000000  506.000000  506.000000  506.000000   \n",
              "mean     3.613524   11.363636   11.136779    0.069170    0.554695    6.284634   \n",
              "std      8.601545   23.322453    6.860353    0.253994    0.115878    0.702617   \n",
              "min      0.006320    0.000000    0.460000    0.000000    0.385000    3.561000   \n",
              "25%      0.082045    0.000000    5.190000    0.000000    0.449000    5.885500   \n",
              "50%      0.256510    0.000000    9.690000    0.000000    0.538000    6.208500   \n",
              "75%      3.677083   12.500000   18.100000    0.000000    0.624000    6.623500   \n",
              "max     88.976200  100.000000   27.740000    1.000000    0.871000    8.780000   \n",
              "\n",
              "               6           7           8           9           10          11  \\\n",
              "count  506.000000  506.000000  506.000000  506.000000  506.000000  506.000000   \n",
              "mean    68.574901    3.795043    9.549407  408.237154   18.455534  356.674032   \n",
              "std     28.148861    2.105710    8.707259  168.537116    2.164946   91.294864   \n",
              "min      2.900000    1.129600    1.000000  187.000000   12.600000    0.320000   \n",
              "25%     45.025000    2.100175    4.000000  279.000000   17.400000  375.377500   \n",
              "50%     77.500000    3.207450    5.000000  330.000000   19.050000  391.440000   \n",
              "75%     94.075000    5.188425   24.000000  666.000000   20.200000  396.225000   \n",
              "max    100.000000   12.126500   24.000000  711.000000   22.000000  396.900000   \n",
              "\n",
              "               12  \n",
              "count  506.000000  \n",
              "mean    12.653063  \n",
              "std      7.141062  \n",
              "min      1.730000  \n",
              "25%      6.950000  \n",
              "50%     11.360000  \n",
              "75%     16.955000  \n",
              "max     37.970000  "
            ],
            "text/html": [
              "\n",
              "  <div id=\"df-9c8027c5-42f0-469b-96af-7da2a6c95fdb\">\n",
              "    <div class=\"colab-df-container\">\n",
              "      <div>\n",
              "<style scoped>\n",
              "    .dataframe tbody tr th:only-of-type {\n",
              "        vertical-align: middle;\n",
              "    }\n",
              "\n",
              "    .dataframe tbody tr th {\n",
              "        vertical-align: top;\n",
              "    }\n",
              "\n",
              "    .dataframe thead th {\n",
              "        text-align: right;\n",
              "    }\n",
              "</style>\n",
              "<table border=\"1\" class=\"dataframe\">\n",
              "  <thead>\n",
              "    <tr style=\"text-align: right;\">\n",
              "      <th></th>\n",
              "      <th>0</th>\n",
              "      <th>1</th>\n",
              "      <th>2</th>\n",
              "      <th>3</th>\n",
              "      <th>4</th>\n",
              "      <th>5</th>\n",
              "      <th>6</th>\n",
              "      <th>7</th>\n",
              "      <th>8</th>\n",
              "      <th>9</th>\n",
              "      <th>10</th>\n",
              "      <th>11</th>\n",
              "      <th>12</th>\n",
              "    </tr>\n",
              "  </thead>\n",
              "  <tbody>\n",
              "    <tr>\n",
              "      <th>count</th>\n",
              "      <td>506.000000</td>\n",
              "      <td>506.000000</td>\n",
              "      <td>506.000000</td>\n",
              "      <td>506.000000</td>\n",
              "      <td>506.000000</td>\n",
              "      <td>506.000000</td>\n",
              "      <td>506.000000</td>\n",
              "      <td>506.000000</td>\n",
              "      <td>506.000000</td>\n",
              "      <td>506.000000</td>\n",
              "      <td>506.000000</td>\n",
              "      <td>506.000000</td>\n",
              "      <td>506.000000</td>\n",
              "    </tr>\n",
              "    <tr>\n",
              "      <th>mean</th>\n",
              "      <td>3.613524</td>\n",
              "      <td>11.363636</td>\n",
              "      <td>11.136779</td>\n",
              "      <td>0.069170</td>\n",
              "      <td>0.554695</td>\n",
              "      <td>6.284634</td>\n",
              "      <td>68.574901</td>\n",
              "      <td>3.795043</td>\n",
              "      <td>9.549407</td>\n",
              "      <td>408.237154</td>\n",
              "      <td>18.455534</td>\n",
              "      <td>356.674032</td>\n",
              "      <td>12.653063</td>\n",
              "    </tr>\n",
              "    <tr>\n",
              "      <th>std</th>\n",
              "      <td>8.601545</td>\n",
              "      <td>23.322453</td>\n",
              "      <td>6.860353</td>\n",
              "      <td>0.253994</td>\n",
              "      <td>0.115878</td>\n",
              "      <td>0.702617</td>\n",
              "      <td>28.148861</td>\n",
              "      <td>2.105710</td>\n",
              "      <td>8.707259</td>\n",
              "      <td>168.537116</td>\n",
              "      <td>2.164946</td>\n",
              "      <td>91.294864</td>\n",
              "      <td>7.141062</td>\n",
              "    </tr>\n",
              "    <tr>\n",
              "      <th>min</th>\n",
              "      <td>0.006320</td>\n",
              "      <td>0.000000</td>\n",
              "      <td>0.460000</td>\n",
              "      <td>0.000000</td>\n",
              "      <td>0.385000</td>\n",
              "      <td>3.561000</td>\n",
              "      <td>2.900000</td>\n",
              "      <td>1.129600</td>\n",
              "      <td>1.000000</td>\n",
              "      <td>187.000000</td>\n",
              "      <td>12.600000</td>\n",
              "      <td>0.320000</td>\n",
              "      <td>1.730000</td>\n",
              "    </tr>\n",
              "    <tr>\n",
              "      <th>25%</th>\n",
              "      <td>0.082045</td>\n",
              "      <td>0.000000</td>\n",
              "      <td>5.190000</td>\n",
              "      <td>0.000000</td>\n",
              "      <td>0.449000</td>\n",
              "      <td>5.885500</td>\n",
              "      <td>45.025000</td>\n",
              "      <td>2.100175</td>\n",
              "      <td>4.000000</td>\n",
              "      <td>279.000000</td>\n",
              "      <td>17.400000</td>\n",
              "      <td>375.377500</td>\n",
              "      <td>6.950000</td>\n",
              "    </tr>\n",
              "    <tr>\n",
              "      <th>50%</th>\n",
              "      <td>0.256510</td>\n",
              "      <td>0.000000</td>\n",
              "      <td>9.690000</td>\n",
              "      <td>0.000000</td>\n",
              "      <td>0.538000</td>\n",
              "      <td>6.208500</td>\n",
              "      <td>77.500000</td>\n",
              "      <td>3.207450</td>\n",
              "      <td>5.000000</td>\n",
              "      <td>330.000000</td>\n",
              "      <td>19.050000</td>\n",
              "      <td>391.440000</td>\n",
              "      <td>11.360000</td>\n",
              "    </tr>\n",
              "    <tr>\n",
              "      <th>75%</th>\n",
              "      <td>3.677083</td>\n",
              "      <td>12.500000</td>\n",
              "      <td>18.100000</td>\n",
              "      <td>0.000000</td>\n",
              "      <td>0.624000</td>\n",
              "      <td>6.623500</td>\n",
              "      <td>94.075000</td>\n",
              "      <td>5.188425</td>\n",
              "      <td>24.000000</td>\n",
              "      <td>666.000000</td>\n",
              "      <td>20.200000</td>\n",
              "      <td>396.225000</td>\n",
              "      <td>16.955000</td>\n",
              "    </tr>\n",
              "    <tr>\n",
              "      <th>max</th>\n",
              "      <td>88.976200</td>\n",
              "      <td>100.000000</td>\n",
              "      <td>27.740000</td>\n",
              "      <td>1.000000</td>\n",
              "      <td>0.871000</td>\n",
              "      <td>8.780000</td>\n",
              "      <td>100.000000</td>\n",
              "      <td>12.126500</td>\n",
              "      <td>24.000000</td>\n",
              "      <td>711.000000</td>\n",
              "      <td>22.000000</td>\n",
              "      <td>396.900000</td>\n",
              "      <td>37.970000</td>\n",
              "    </tr>\n",
              "  </tbody>\n",
              "</table>\n",
              "</div>\n",
              "      <button class=\"colab-df-convert\" onclick=\"convertToInteractive('df-9c8027c5-42f0-469b-96af-7da2a6c95fdb')\"\n",
              "              title=\"Convert this dataframe to an interactive table.\"\n",
              "              style=\"display:none;\">\n",
              "        \n",
              "  <svg xmlns=\"http://www.w3.org/2000/svg\" height=\"24px\"viewBox=\"0 0 24 24\"\n",
              "       width=\"24px\">\n",
              "    <path d=\"M0 0h24v24H0V0z\" fill=\"none\"/>\n",
              "    <path d=\"M18.56 5.44l.94 2.06.94-2.06 2.06-.94-2.06-.94-.94-2.06-.94 2.06-2.06.94zm-11 1L8.5 8.5l.94-2.06 2.06-.94-2.06-.94L8.5 2.5l-.94 2.06-2.06.94zm10 10l.94 2.06.94-2.06 2.06-.94-2.06-.94-.94-2.06-.94 2.06-2.06.94z\"/><path d=\"M17.41 7.96l-1.37-1.37c-.4-.4-.92-.59-1.43-.59-.52 0-1.04.2-1.43.59L10.3 9.45l-7.72 7.72c-.78.78-.78 2.05 0 2.83L4 21.41c.39.39.9.59 1.41.59.51 0 1.02-.2 1.41-.59l7.78-7.78 2.81-2.81c.8-.78.8-2.07 0-2.86zM5.41 20L4 18.59l7.72-7.72 1.47 1.35L5.41 20z\"/>\n",
              "  </svg>\n",
              "      </button>\n",
              "      \n",
              "  <style>\n",
              "    .colab-df-container {\n",
              "      display:flex;\n",
              "      flex-wrap:wrap;\n",
              "      gap: 12px;\n",
              "    }\n",
              "\n",
              "    .colab-df-convert {\n",
              "      background-color: #E8F0FE;\n",
              "      border: none;\n",
              "      border-radius: 50%;\n",
              "      cursor: pointer;\n",
              "      display: none;\n",
              "      fill: #1967D2;\n",
              "      height: 32px;\n",
              "      padding: 0 0 0 0;\n",
              "      width: 32px;\n",
              "    }\n",
              "\n",
              "    .colab-df-convert:hover {\n",
              "      background-color: #E2EBFA;\n",
              "      box-shadow: 0px 1px 2px rgba(60, 64, 67, 0.3), 0px 1px 3px 1px rgba(60, 64, 67, 0.15);\n",
              "      fill: #174EA6;\n",
              "    }\n",
              "\n",
              "    [theme=dark] .colab-df-convert {\n",
              "      background-color: #3B4455;\n",
              "      fill: #D2E3FC;\n",
              "    }\n",
              "\n",
              "    [theme=dark] .colab-df-convert:hover {\n",
              "      background-color: #434B5C;\n",
              "      box-shadow: 0px 1px 3px 1px rgba(0, 0, 0, 0.15);\n",
              "      filter: drop-shadow(0px 1px 2px rgba(0, 0, 0, 0.3));\n",
              "      fill: #FFFFFF;\n",
              "    }\n",
              "  </style>\n",
              "\n",
              "      <script>\n",
              "        const buttonEl =\n",
              "          document.querySelector('#df-9c8027c5-42f0-469b-96af-7da2a6c95fdb button.colab-df-convert');\n",
              "        buttonEl.style.display =\n",
              "          google.colab.kernel.accessAllowed ? 'block' : 'none';\n",
              "\n",
              "        async function convertToInteractive(key) {\n",
              "          const element = document.querySelector('#df-9c8027c5-42f0-469b-96af-7da2a6c95fdb');\n",
              "          const dataTable =\n",
              "            await google.colab.kernel.invokeFunction('convertToInteractive',\n",
              "                                                     [key], {});\n",
              "          if (!dataTable) return;\n",
              "\n",
              "          const docLinkHtml = 'Like what you see? Visit the ' +\n",
              "            '<a target=\"_blank\" href=https://colab.research.google.com/notebooks/data_table.ipynb>data table notebook</a>'\n",
              "            + ' to learn more about interactive tables.';\n",
              "          element.innerHTML = '';\n",
              "          dataTable['output_type'] = 'display_data';\n",
              "          await google.colab.output.renderOutput(dataTable, element);\n",
              "          const docLink = document.createElement('div');\n",
              "          docLink.innerHTML = docLinkHtml;\n",
              "          element.appendChild(docLink);\n",
              "        }\n",
              "      </script>\n",
              "    </div>\n",
              "  </div>\n",
              "  "
            ]
          },
          "metadata": {},
          "execution_count": 5
        }
      ]
    },
    {
      "cell_type": "markdown",
      "metadata": {
        "id": "BXZJdDmgDVY0"
      },
      "source": [
        "## Normalize data\n",
        "\n",
        "0 mean and unit variance\n",
        "\n",
        "Note: we should technically use only the train data here. "
      ]
    },
    {
      "cell_type": "code",
      "metadata": {
        "id": "t0azUGT-Ao-Z",
        "colab": {
          "base_uri": "https://localhost:8080/",
          "height": 318
        },
        "outputId": "1ba8373e-8a4d-48ae-e186-3f4687fa9352"
      },
      "source": [
        "X = boston.data\n",
        "y = boston.target\n",
        "print(X.shape, y.shape)\n",
        "\n",
        "#Similar to StandardScaler():\n",
        "X -= X.mean(0) #axis=0 so it operates across each column/feature\n",
        "X /= X.std(0)\n",
        "\n",
        "df = pd.DataFrame(X)\n",
        "df.describe()\n"
      ],
      "execution_count": 6,
      "outputs": [
        {
          "output_type": "stream",
          "name": "stdout",
          "text": [
            "(506, 13) (506,)\n"
          ]
        },
        {
          "output_type": "execute_result",
          "data": {
            "text/plain": [
              "                 0             1             2             3             4   \\\n",
              "count  5.060000e+02  5.060000e+02  5.060000e+02  5.060000e+02  5.060000e+02   \n",
              "mean  -8.787437e-17 -5.285627e-16 -2.354671e-15  5.092545e-16  2.544736e-15   \n",
              "std    1.000990e+00  1.000990e+00  1.000990e+00  1.000990e+00  1.000990e+00   \n",
              "min   -4.197819e-01 -4.877224e-01 -1.557842e+00 -2.725986e-01 -1.465882e+00   \n",
              "25%   -4.109696e-01 -4.877224e-01 -8.676906e-01 -2.725986e-01 -9.130288e-01   \n",
              "50%   -3.906665e-01 -4.877224e-01 -2.110985e-01 -2.725986e-01 -1.442174e-01   \n",
              "75%    7.396560e-03  4.877224e-02  1.015999e+00 -2.725986e-01  5.986790e-01   \n",
              "max    9.933931e+00  3.804234e+00  2.422565e+00  3.668398e+00  2.732346e+00   \n",
              "\n",
              "                 5             6             7             8             9   \\\n",
              "count  5.060000e+02  5.060000e+02  5.060000e+02  5.060000e+02  5.060000e+02   \n",
              "mean  -1.146031e-14 -1.122510e-15  9.834031e-16  1.553873e-15 -8.012914e-16   \n",
              "std    1.000990e+00  1.000990e+00  1.000990e+00  1.000990e+00  1.000990e+00   \n",
              "min   -3.880249e+00 -2.335437e+00 -1.267069e+00 -9.828429e-01 -1.313990e+00   \n",
              "25%   -5.686303e-01 -8.374480e-01 -8.056878e-01 -6.379618e-01 -7.675760e-01   \n",
              "50%   -1.084655e-01  3.173816e-01 -2.793234e-01 -5.230014e-01 -4.646726e-01   \n",
              "75%    4.827678e-01  9.067981e-01  6.623709e-01  1.661245e+00  1.530926e+00   \n",
              "max    3.555044e+00  1.117494e+00  3.960518e+00  1.661245e+00  1.798194e+00   \n",
              "\n",
              "                 10            11            12  \n",
              "count  5.060000e+02  5.060000e+02  5.060000e+02  \n",
              "mean  -1.020966e-14  8.075008e-15 -3.370163e-16  \n",
              "std    1.000990e+00  1.000990e+00  1.000990e+00  \n",
              "min   -2.707379e+00 -3.907193e+00 -1.531127e+00  \n",
              "25%   -4.880391e-01  2.050715e-01 -7.994200e-01  \n",
              "50%    2.748590e-01  3.811865e-01 -1.812536e-01  \n",
              "75%    8.065758e-01  4.336510e-01  6.030188e-01  \n",
              "max    1.638828e+00  4.410519e-01  3.548771e+00  "
            ],
            "text/html": [
              "\n",
              "  <div id=\"df-aaaeeae4-79ad-40d9-9278-bbd07a8ec1e5\">\n",
              "    <div class=\"colab-df-container\">\n",
              "      <div>\n",
              "<style scoped>\n",
              "    .dataframe tbody tr th:only-of-type {\n",
              "        vertical-align: middle;\n",
              "    }\n",
              "\n",
              "    .dataframe tbody tr th {\n",
              "        vertical-align: top;\n",
              "    }\n",
              "\n",
              "    .dataframe thead th {\n",
              "        text-align: right;\n",
              "    }\n",
              "</style>\n",
              "<table border=\"1\" class=\"dataframe\">\n",
              "  <thead>\n",
              "    <tr style=\"text-align: right;\">\n",
              "      <th></th>\n",
              "      <th>0</th>\n",
              "      <th>1</th>\n",
              "      <th>2</th>\n",
              "      <th>3</th>\n",
              "      <th>4</th>\n",
              "      <th>5</th>\n",
              "      <th>6</th>\n",
              "      <th>7</th>\n",
              "      <th>8</th>\n",
              "      <th>9</th>\n",
              "      <th>10</th>\n",
              "      <th>11</th>\n",
              "      <th>12</th>\n",
              "    </tr>\n",
              "  </thead>\n",
              "  <tbody>\n",
              "    <tr>\n",
              "      <th>count</th>\n",
              "      <td>5.060000e+02</td>\n",
              "      <td>5.060000e+02</td>\n",
              "      <td>5.060000e+02</td>\n",
              "      <td>5.060000e+02</td>\n",
              "      <td>5.060000e+02</td>\n",
              "      <td>5.060000e+02</td>\n",
              "      <td>5.060000e+02</td>\n",
              "      <td>5.060000e+02</td>\n",
              "      <td>5.060000e+02</td>\n",
              "      <td>5.060000e+02</td>\n",
              "      <td>5.060000e+02</td>\n",
              "      <td>5.060000e+02</td>\n",
              "      <td>5.060000e+02</td>\n",
              "    </tr>\n",
              "    <tr>\n",
              "      <th>mean</th>\n",
              "      <td>-8.787437e-17</td>\n",
              "      <td>-5.285627e-16</td>\n",
              "      <td>-2.354671e-15</td>\n",
              "      <td>5.092545e-16</td>\n",
              "      <td>2.544736e-15</td>\n",
              "      <td>-1.146031e-14</td>\n",
              "      <td>-1.122510e-15</td>\n",
              "      <td>9.834031e-16</td>\n",
              "      <td>1.553873e-15</td>\n",
              "      <td>-8.012914e-16</td>\n",
              "      <td>-1.020966e-14</td>\n",
              "      <td>8.075008e-15</td>\n",
              "      <td>-3.370163e-16</td>\n",
              "    </tr>\n",
              "    <tr>\n",
              "      <th>std</th>\n",
              "      <td>1.000990e+00</td>\n",
              "      <td>1.000990e+00</td>\n",
              "      <td>1.000990e+00</td>\n",
              "      <td>1.000990e+00</td>\n",
              "      <td>1.000990e+00</td>\n",
              "      <td>1.000990e+00</td>\n",
              "      <td>1.000990e+00</td>\n",
              "      <td>1.000990e+00</td>\n",
              "      <td>1.000990e+00</td>\n",
              "      <td>1.000990e+00</td>\n",
              "      <td>1.000990e+00</td>\n",
              "      <td>1.000990e+00</td>\n",
              "      <td>1.000990e+00</td>\n",
              "    </tr>\n",
              "    <tr>\n",
              "      <th>min</th>\n",
              "      <td>-4.197819e-01</td>\n",
              "      <td>-4.877224e-01</td>\n",
              "      <td>-1.557842e+00</td>\n",
              "      <td>-2.725986e-01</td>\n",
              "      <td>-1.465882e+00</td>\n",
              "      <td>-3.880249e+00</td>\n",
              "      <td>-2.335437e+00</td>\n",
              "      <td>-1.267069e+00</td>\n",
              "      <td>-9.828429e-01</td>\n",
              "      <td>-1.313990e+00</td>\n",
              "      <td>-2.707379e+00</td>\n",
              "      <td>-3.907193e+00</td>\n",
              "      <td>-1.531127e+00</td>\n",
              "    </tr>\n",
              "    <tr>\n",
              "      <th>25%</th>\n",
              "      <td>-4.109696e-01</td>\n",
              "      <td>-4.877224e-01</td>\n",
              "      <td>-8.676906e-01</td>\n",
              "      <td>-2.725986e-01</td>\n",
              "      <td>-9.130288e-01</td>\n",
              "      <td>-5.686303e-01</td>\n",
              "      <td>-8.374480e-01</td>\n",
              "      <td>-8.056878e-01</td>\n",
              "      <td>-6.379618e-01</td>\n",
              "      <td>-7.675760e-01</td>\n",
              "      <td>-4.880391e-01</td>\n",
              "      <td>2.050715e-01</td>\n",
              "      <td>-7.994200e-01</td>\n",
              "    </tr>\n",
              "    <tr>\n",
              "      <th>50%</th>\n",
              "      <td>-3.906665e-01</td>\n",
              "      <td>-4.877224e-01</td>\n",
              "      <td>-2.110985e-01</td>\n",
              "      <td>-2.725986e-01</td>\n",
              "      <td>-1.442174e-01</td>\n",
              "      <td>-1.084655e-01</td>\n",
              "      <td>3.173816e-01</td>\n",
              "      <td>-2.793234e-01</td>\n",
              "      <td>-5.230014e-01</td>\n",
              "      <td>-4.646726e-01</td>\n",
              "      <td>2.748590e-01</td>\n",
              "      <td>3.811865e-01</td>\n",
              "      <td>-1.812536e-01</td>\n",
              "    </tr>\n",
              "    <tr>\n",
              "      <th>75%</th>\n",
              "      <td>7.396560e-03</td>\n",
              "      <td>4.877224e-02</td>\n",
              "      <td>1.015999e+00</td>\n",
              "      <td>-2.725986e-01</td>\n",
              "      <td>5.986790e-01</td>\n",
              "      <td>4.827678e-01</td>\n",
              "      <td>9.067981e-01</td>\n",
              "      <td>6.623709e-01</td>\n",
              "      <td>1.661245e+00</td>\n",
              "      <td>1.530926e+00</td>\n",
              "      <td>8.065758e-01</td>\n",
              "      <td>4.336510e-01</td>\n",
              "      <td>6.030188e-01</td>\n",
              "    </tr>\n",
              "    <tr>\n",
              "      <th>max</th>\n",
              "      <td>9.933931e+00</td>\n",
              "      <td>3.804234e+00</td>\n",
              "      <td>2.422565e+00</td>\n",
              "      <td>3.668398e+00</td>\n",
              "      <td>2.732346e+00</td>\n",
              "      <td>3.555044e+00</td>\n",
              "      <td>1.117494e+00</td>\n",
              "      <td>3.960518e+00</td>\n",
              "      <td>1.661245e+00</td>\n",
              "      <td>1.798194e+00</td>\n",
              "      <td>1.638828e+00</td>\n",
              "      <td>4.410519e-01</td>\n",
              "      <td>3.548771e+00</td>\n",
              "    </tr>\n",
              "  </tbody>\n",
              "</table>\n",
              "</div>\n",
              "      <button class=\"colab-df-convert\" onclick=\"convertToInteractive('df-aaaeeae4-79ad-40d9-9278-bbd07a8ec1e5')\"\n",
              "              title=\"Convert this dataframe to an interactive table.\"\n",
              "              style=\"display:none;\">\n",
              "        \n",
              "  <svg xmlns=\"http://www.w3.org/2000/svg\" height=\"24px\"viewBox=\"0 0 24 24\"\n",
              "       width=\"24px\">\n",
              "    <path d=\"M0 0h24v24H0V0z\" fill=\"none\"/>\n",
              "    <path d=\"M18.56 5.44l.94 2.06.94-2.06 2.06-.94-2.06-.94-.94-2.06-.94 2.06-2.06.94zm-11 1L8.5 8.5l.94-2.06 2.06-.94-2.06-.94L8.5 2.5l-.94 2.06-2.06.94zm10 10l.94 2.06.94-2.06 2.06-.94-2.06-.94-.94-2.06-.94 2.06-2.06.94z\"/><path d=\"M17.41 7.96l-1.37-1.37c-.4-.4-.92-.59-1.43-.59-.52 0-1.04.2-1.43.59L10.3 9.45l-7.72 7.72c-.78.78-.78 2.05 0 2.83L4 21.41c.39.39.9.59 1.41.59.51 0 1.02-.2 1.41-.59l7.78-7.78 2.81-2.81c.8-.78.8-2.07 0-2.86zM5.41 20L4 18.59l7.72-7.72 1.47 1.35L5.41 20z\"/>\n",
              "  </svg>\n",
              "      </button>\n",
              "      \n",
              "  <style>\n",
              "    .colab-df-container {\n",
              "      display:flex;\n",
              "      flex-wrap:wrap;\n",
              "      gap: 12px;\n",
              "    }\n",
              "\n",
              "    .colab-df-convert {\n",
              "      background-color: #E8F0FE;\n",
              "      border: none;\n",
              "      border-radius: 50%;\n",
              "      cursor: pointer;\n",
              "      display: none;\n",
              "      fill: #1967D2;\n",
              "      height: 32px;\n",
              "      padding: 0 0 0 0;\n",
              "      width: 32px;\n",
              "    }\n",
              "\n",
              "    .colab-df-convert:hover {\n",
              "      background-color: #E2EBFA;\n",
              "      box-shadow: 0px 1px 2px rgba(60, 64, 67, 0.3), 0px 1px 3px 1px rgba(60, 64, 67, 0.15);\n",
              "      fill: #174EA6;\n",
              "    }\n",
              "\n",
              "    [theme=dark] .colab-df-convert {\n",
              "      background-color: #3B4455;\n",
              "      fill: #D2E3FC;\n",
              "    }\n",
              "\n",
              "    [theme=dark] .colab-df-convert:hover {\n",
              "      background-color: #434B5C;\n",
              "      box-shadow: 0px 1px 3px 1px rgba(0, 0, 0, 0.15);\n",
              "      filter: drop-shadow(0px 1px 2px rgba(0, 0, 0, 0.3));\n",
              "      fill: #FFFFFF;\n",
              "    }\n",
              "  </style>\n",
              "\n",
              "      <script>\n",
              "        const buttonEl =\n",
              "          document.querySelector('#df-aaaeeae4-79ad-40d9-9278-bbd07a8ec1e5 button.colab-df-convert');\n",
              "        buttonEl.style.display =\n",
              "          google.colab.kernel.accessAllowed ? 'block' : 'none';\n",
              "\n",
              "        async function convertToInteractive(key) {\n",
              "          const element = document.querySelector('#df-aaaeeae4-79ad-40d9-9278-bbd07a8ec1e5');\n",
              "          const dataTable =\n",
              "            await google.colab.kernel.invokeFunction('convertToInteractive',\n",
              "                                                     [key], {});\n",
              "          if (!dataTable) return;\n",
              "\n",
              "          const docLinkHtml = 'Like what you see? Visit the ' +\n",
              "            '<a target=\"_blank\" href=https://colab.research.google.com/notebooks/data_table.ipynb>data table notebook</a>'\n",
              "            + ' to learn more about interactive tables.';\n",
              "          element.innerHTML = '';\n",
              "          dataTable['output_type'] = 'display_data';\n",
              "          await google.colab.output.renderOutput(dataTable, element);\n",
              "          const docLink = document.createElement('div');\n",
              "          docLink.innerHTML = docLinkHtml;\n",
              "          element.appendChild(docLink);\n",
              "        }\n",
              "      </script>\n",
              "    </div>\n",
              "  </div>\n",
              "  "
            ]
          },
          "metadata": {},
          "execution_count": 6
        }
      ]
    },
    {
      "cell_type": "code",
      "metadata": {
        "id": "suCyXHYXDkrI",
        "colab": {
          "base_uri": "https://localhost:8080/"
        },
        "outputId": "09664563-bb94-4b47-8eef-93508c9fb5a5"
      },
      "source": [
        "from sklearn.model_selection import train_test_split\n",
        "Xtrain, Xtest, ytrain, ytest = train_test_split(X, y, random_state=42, train_size=0.8)\n",
        "\n",
        "print(Xtrain.shape, ytrain.shape)"
      ],
      "execution_count": 7,
      "outputs": [
        {
          "output_type": "stream",
          "name": "stdout",
          "text": [
            "(404, 13) (404,)\n"
          ]
        }
      ]
    },
    {
      "cell_type": "code",
      "metadata": {
        "id": "lCaCe_6B951p",
        "colab": {
          "base_uri": "https://localhost:8080/"
        },
        "outputId": "f07ccfe8-c14b-4290-f590-5647e68f8f07"
      },
      "source": [
        "print(\"Attributes:\\n\", Xtrain[:3], \"\\n Prices:\\n\", ytrain[:3])"
      ],
      "execution_count": 8,
      "outputs": [
        {
          "output_type": "stream",
          "name": "stdout",
          "text": [
            "Attributes:\n",
            " [[ 1.32780421 -0.48772236  1.01599907 -0.27259857  0.51229565 -1.39706929\n",
            "   1.02148094 -0.80543822  1.66124525  1.53092646  0.80657583 -0.07887794\n",
            "   1.7181012 ]\n",
            " [-0.34750602 -0.48772236 -0.43725801 -0.27259857 -0.14421743 -0.64200019\n",
            "  -0.42939039  0.33444943 -0.6379618  -0.6012761   1.17646583  0.42701755\n",
            "  -0.5863558 ]\n",
            " [-0.41648392  1.01446252 -0.74074945 -0.27259857 -1.00891427 -0.36134243\n",
            "  -1.61000138  1.35273767 -0.98284286 -0.61909395 -0.71922039  0.06113692\n",
            "  -0.67606702]] \n",
            " Prices:\n",
            " [12.  19.9 19.4]\n"
          ]
        }
      ]
    },
    {
      "cell_type": "markdown",
      "metadata": {
        "id": "X-LgGXITCler"
      },
      "source": [
        "## Linear Regression"
      ]
    },
    {
      "cell_type": "markdown",
      "metadata": {
        "id": "yclxsvq9rWER"
      },
      "source": [
        "[Diabetes dataset Linear Regression Model example](https://scikit-learn.org/stable/auto_examples/linear_model/plot_ols.html)"
      ]
    },
    {
      "cell_type": "code",
      "metadata": {
        "id": "KLRplo6rAhxz"
      },
      "source": [
        "#Linear Regression\n",
        "\n",
        "from sklearn.linear_model import LinearRegression\n",
        "from sklearn.metrics import mean_squared_error\n",
        "\n",
        "#SciKit Lin Reg using the train/test split:\n",
        "#1. Create a model\n",
        "#2. Train\n",
        "#3. Predict\n",
        "\n",
        "#ME\n",
        "model = LinearRegression(fit_intercept=True)\n",
        "model.fit(Xtrain, ytrain)\n",
        "y_model = model.predict(Xtest)\n"
      ],
      "execution_count": 9,
      "outputs": []
    },
    {
      "cell_type": "code",
      "metadata": {
        "id": "nSZShaxmAg-2",
        "colab": {
          "base_uri": "https://localhost:8080/",
          "height": 330
        },
        "outputId": "f721e53d-71b6-41f6-a48b-7d34ef6710d4"
      },
      "source": [
        "#Calculate error and plot\n",
        "mse = mean_squared_error(ytest, y_model)\n",
        "print(\"MSE Linear Regression: %.2f\" % mse)\n",
        "\n",
        "#compare labels\n",
        "plt.scatter(ytest, y_model)\n",
        "plt.xlabel(\"Truth\")\n",
        "plt.ylabel(\"Predicted\")\n",
        "plt.title(\"Boston Housing True vs Predicted prices\")"
      ],
      "execution_count": 10,
      "outputs": [
        {
          "output_type": "stream",
          "name": "stdout",
          "text": [
            "MSE Linear Regression: 24.29\n"
          ]
        },
        {
          "output_type": "execute_result",
          "data": {
            "text/plain": [
              "Text(0.5, 1.0, 'Boston Housing True vs Predicted prices')"
            ]
          },
          "metadata": {},
          "execution_count": 10
        },
        {
          "output_type": "display_data",
          "data": {
            "text/plain": [
              "<Figure size 432x288 with 1 Axes>"
            ],
            "image/png": "[encoded data removed]"
          },
          "metadata": {
            "needs_background": "light"
          }
        }
      ]
    },
    {
      "cell_type": "markdown",
      "metadata": {
        "id": "uNVBeDjTOruY"
      },
      "source": [
        "### Solution\n",
        "\n",
        "What did the model learn?"
      ]
    },
    {
      "cell_type": "code",
      "metadata": {
        "id": "FQhMSuiMDy6n",
        "colab": {
          "base_uri": "https://localhost:8080/"
        },
        "outputId": "9f1e7463-e22b-4e84-cc55-4988c3a748e0"
      },
      "source": [
        "# Model weights:\n",
        "print(\"Model intercept:\", model.intercept_)\n",
        "print(\"Model slopes:    \", model.coef_)"
      ],
      "execution_count": 11,
      "outputs": [
        {
          "output_type": "stream",
          "name": "stdout",
          "text": [
            "Model intercept: 22.485268239316913\n",
            "Model slopes:     [-0.97149423  0.70155562  0.27675212  0.70653152 -1.99143043  3.11571836\n",
            " -0.17706021 -3.04577065  2.28278471 -1.79260468 -1.97995351  1.12649864\n",
            " -3.62814937]\n"
          ]
        }
      ]
    },
    {
      "cell_type": "markdown",
      "metadata": {
        "id": "IzPnc2yobWQT"
      },
      "source": [
        "### Bonus\n",
        "\n",
        "Add poly features via a pipeline\n",
        "\n",
        "What is a good degree for this model?\n",
        "\n",
        "[make_pipeline documentation](https://scikit-learn.org/stable/modules/generated/sklearn.pipeline.make_pipeline.html)"
      ]
    },
    {
      "cell_type": "code",
      "metadata": {
        "id": "oepn3GpzbeNe"
      },
      "source": [
        "from sklearn.pipeline import make_pipeline\n",
        "from sklearn.preprocessing import PolynomialFeatures\n",
        "#ME\n",
        "model = make_pipeline(PolynomialFeatures(2), LinearRegression(fit_intercept=True))\n"
      ],
      "execution_count": 12,
      "outputs": []
    },
    {
      "cell_type": "code",
      "metadata": {
        "id": "9TMwtsffcJ4a",
        "colab": {
          "base_uri": "https://localhost:8080/",
          "height": 330
        },
        "outputId": "36ce0549-1c12-49a8-81ed-864f5bb21996"
      },
      "source": [
        "#train and evaluate \n",
        "\n",
        "model.fit(Xtrain, ytrain)\n",
        "y_model = model.predict(Xtest)\n",
        "\n",
        "#Calculate error and plot\n",
        "mse = mean_squared_error(ytest, y_model)\n",
        "print(\"MSE Linear Regression: %.2f\" % mse)\n",
        "#how much does poly and scaling help?\n",
        "\n",
        "#compare labels\n",
        "plt.scatter(ytest, y_model)\n",
        "plt.xlabel(\"Truth\")\n",
        "plt.ylabel(\"Predicted\")\n",
        "plt.title(\"Boston Housing True vs Predicted prices\")"
      ],
      "execution_count": 13,
      "outputs": [
        {
          "output_type": "stream",
          "name": "stdout",
          "text": [
            "MSE Linear Regression: 14.25\n"
          ]
        },
        {
          "output_type": "execute_result",
          "data": {
            "text/plain": [
              "Text(0.5, 1.0, 'Boston Housing True vs Predicted prices')"
            ]
          },
          "metadata": {},
          "execution_count": 13
        },
        {
          "output_type": "display_data",
          "data": {
            "text/plain": [
              "<Figure size 432x288 with 1 Axes>"
            ],
            "image/png": "[encoded data removed]"
          },
          "metadata": {
            "needs_background": "light"
          }
        }
      ]
    },
    {
      "cell_type": "markdown",
      "metadata": {
        "id": "6FO3a_51DzwV"
      },
      "source": [
        "## Dense NN using Keras"
      ]
    },
    {
      "cell_type": "code",
      "metadata": {
        "id": "f1LCwbe9Dy_x"
      },
      "source": [
        "from tensorflow.keras import models\n",
        "from tensorflow.keras import layers\n",
        "\n",
        "from tensorflow.keras.models import Sequential\n",
        "from tensorflow.keras.layers import Dense\n",
        "from tensorflow.keras.wrappers.scikit_learn import KerasRegressor\n",
        "from sklearn.model_selection import cross_val_score\n",
        "from sklearn.model_selection import KFold\n",
        "from sklearn.preprocessing import StandardScaler\n",
        "from sklearn.pipeline import Pipeline"
      ],
      "execution_count": 14,
      "outputs": []
    },
    {
      "cell_type": "code",
      "metadata": {
        "id": "rqvUJetHDzCO"
      },
      "source": [
        "# define model\n",
        "\n",
        "#Dense is a fully-connected NN: activation(dot(input, kernel) + bias)\n",
        "\n",
        "def ex_model():\n",
        "\t# Add layers in given order\n",
        "  model = Sequential() \n",
        "  #Seq: indicates we want to define the NN layer by layer;\n",
        "  #each layer stacks on top of the next. \n",
        "  #comes with fit,eval,predict. (and corresponding generators)\n",
        "  \n",
        "  model.add(Dense(13, input_shape=(Xtrain.shape[1],), activation='relu'))\n",
        "  #we only need input size for the first layer. After that, it will auto-fill.\n",
        "\n",
        "  model.add(Dense(1))\n",
        "  #no actications for the output layer. used for predicting a continous value.\n",
        "  # Compile model\n",
        "  model.compile(loss='mean_squared_error', optimizer='adam', metrics=['mae'])\n",
        "  return model\n"
      ],
      "execution_count": 15,
      "outputs": []
    },
    {
      "cell_type": "code",
      "metadata": {
        "id": "EP-pDCdtG0cB",
        "colab": {
          "base_uri": "https://localhost:8080/",
          "height": 677
        },
        "outputId": "706bda2f-96ae-4bfc-b505-7bb899f85024"
      },
      "source": [
        "model = ex_model()\n",
        "ne = 10 #number of train loops\n",
        "model.fit(Xtrain, ytrain, epochs=ne, batch_size=1, verbose=1)\n",
        "#see performance on test data using trained model\n",
        "y_nn = model.predict(Xtest)\n",
        "\n",
        "#Calculate error and plot\n",
        "mse = mean_squared_error(ytest, y_nn)\n",
        "print(\"MSE Keras example: %.2f\" % mse)\n",
        "\n",
        "#compare labels\n",
        "plt.scatter(ytest, y_model)\n",
        "plt.xlabel(\"Truth\")\n",
        "plt.ylabel(\"Predicted\")\n",
        "plt.title(\"Boston Housing True vs Predicted prices\")"
      ],
      "execution_count": 16,
      "outputs": [
        {
          "output_type": "stream",
          "name": "stdout",
          "text": [
            "Epoch 1/10\n",
            "404/404 [==============================] - 3s 5ms/step - loss: 583.8937 - mae: 22.0396\n",
            "Epoch 2/10\n",
            "404/404 [==============================] - 2s 5ms/step - loss: 465.1630 - mae: 18.6369\n",
            "Epoch 3/10\n",
            "404/404 [==============================] - 2s 6ms/step - loss: 288.1515 - mae: 14.1438\n",
            "Epoch 4/10\n",
            "404/404 [==============================] - 2s 4ms/step - loss: 109.9662 - mae: 8.2013\n",
            "Epoch 5/10\n",
            "404/404 [==============================] - 2s 5ms/step - loss: 41.5745 - mae: 4.5711\n",
            "Epoch 6/10\n",
            "404/404 [==============================] - 2s 4ms/step - loss: 31.9322 - mae: 4.0960\n",
            "Epoch 7/10\n",
            "404/404 [==============================] - 2s 4ms/step - loss: 29.0738 - mae: 3.9654\n",
            "Epoch 8/10\n",
            "404/404 [==============================] - 1s 4ms/step - loss: 27.3019 - mae: 3.8529\n",
            "Epoch 9/10\n",
            "404/404 [==============================] - 2s 4ms/step - loss: 25.9484 - mae: 3.7901\n",
            "Epoch 10/10\n",
            "404/404 [==============================] - 2s 6ms/step - loss: 24.8572 - mae: 3.7294\n",
            "MSE Keras example: 26.26\n"
          ]
        },
        {
          "output_type": "execute_result",
          "data": {
            "text/plain": [
              "Text(0.5, 1.0, 'Boston Housing True vs Predicted prices')"
            ]
          },
          "metadata": {},
          "execution_count": 16
        },
        {
          "output_type": "display_data",
          "data": {
            "text/plain": [
              "<Figure size 432x288 with 1 Axes>"
            ],
            "image/png": "[encoded data removed]"
          },
          "metadata": {
            "needs_background": "light"
          }
        }
      ]
    },
    {
      "cell_type": "code",
      "metadata": {
        "id": "rX94HeJfDzEH"
      },
      "source": [
        "#alternative approach with cross-validation\n",
        "#model object\n",
        "# estimator = KerasRegressor(build_fn=ex_model, epochs=100, batch_size=5, verbose=1)\n",
        "# \n",
        "# cvf = KFold(n_splits=2)\n",
        "# results = cross_val_score(estimator, X, y, cv=cvf)\n",
        "# print(\"Results: %.2f (+/-%.2f) MSE\" % (results.mean(), results.std()))\n",
        "\n",
        "# Results: -88.81 (46.90) MSE"
      ],
      "execution_count": 17,
      "outputs": []
    },
    {
      "cell_type": "code",
      "metadata": {
        "id": "R_L1ExQ-K0zm"
      },
      "source": [
        ""
      ],
      "execution_count": 17,
      "outputs": []
    },
    {
      "cell_type": "markdown",
      "metadata": {
        "id": "PJm9pL6NK1LC"
      },
      "source": [
        "## Exercise\n",
        "\n",
        "Tune your own neural network to beat linear regression:\n",
        "\n",
        "`MSE Linear Regression: 24.29`\n",
        "\n",
        "What should I change? \n",
        "- train time: What is a good *ne* (number of train loops/epochs)? \n",
        "- Make the network deeper/wider\n",
        "  - tune # of layers/neurons in the model. "
      ]
    },
    {
      "cell_type": "markdown",
      "metadata": {
        "id": "90-r3iT5MCb8"
      },
      "source": [
        "### Larger model example\n",
        "\n",
        "#### How to create a deeper model?\n",
        "Add another layer to your model to make it more flexible <br>\n",
        "\n",
        "#### How to create wider models?\n",
        "increase 13 to 30.\n",
        "\n"
      ]
    },
    {
      "cell_type": "markdown",
      "metadata": {
        "id": "pHWmUXYpusnP"
      },
      "source": [
        "**Con:** The larger the model, the more coeff you have to train. This requires:\n",
        "- more data \n",
        "- more training time\n",
        "If you don't have enough data, your model will *overfit* and won't be able to generalize.\n"
      ]
    },
    {
      "cell_type": "code",
      "metadata": {
        "id": "OOfoEZu-Dp0h",
        "colab": {
          "base_uri": "https://localhost:8080/",
          "height": 694
        },
        "outputId": "1ea59948-4d02-4ab5-aef0-4a500659b677"
      },
      "source": [
        "\n",
        "def my_model():\n",
        "\t# Add layers in given order\n",
        "  model = Sequential()\n",
        "  model.add(Dense(128, input_shape=(Xtrain.shape[1],), activation='relu'))\n",
        "\n",
        "  #hidden\n",
        "  model.add(Dense(128, activation='relu'))\n",
        "  model.add(Dense(128, activation='relu'))\n",
        "  model.add(Dense(128, activation='relu'))\n",
        "  model.add(Dense(128, activation='relu'))\n",
        "  model.add(Dense(128, activation='relu'))\n",
        "  #model.add(Dense(128, activation='relu'))\n",
        "\n",
        "\n",
        "\n",
        "  model.add(Dense(1))\n",
        "\t# Compile model\n",
        "  model.compile(loss='mean_squared_error', optimizer='adam', metrics=['mae'])\n",
        "  return model\n",
        "\n",
        "ne = 30 #number of train loops\n",
        "\n",
        "#Train\n",
        "model = my_model()\n",
        "model.fit(Xtrain, ytrain, epochs=ne, batch_size=1, verbose=1)\n",
        "from sklearn.metrics import mean_absolute_error\n",
        "#Test\n",
        "#see performance on test data using trained model\n",
        "y_nn = model.predict(Xtest)\n",
        "#Calculate error and plot\n",
        "mse = mean_squared_error(ytest, y_nn)\n",
        "mae = mean_absolute_error(ytest, y_nn)\n",
        "print(\"Test: MSE my network: %.2f\" % mse)\n",
        "print(\"Test: MAE my network: %.2f\" % mae)\n",
        "\n",
        "#compare labels\n",
        "plt.scatter(ytest, y_model)\n",
        "plt.xlabel(\"Truth\")\n",
        "plt.ylabel(\"Predicted\")\n",
        "plt.title(\"Boston Housing True vs Predicted prices\")"
      ],
      "execution_count": 18,
      "outputs": [
        {
          "output_type": "stream",
          "name": "stdout",
          "text": [
            "Epoch 1/10\n",
            "404/404 [==============================] - 4s 5ms/step - loss: 69.1106 - mae: 5.6089\n",
            "Epoch 2/10\n",
            "404/404 [==============================] - 1s 3ms/step - loss: 24.4088 - mae: 3.5616\n",
            "Epoch 3/10\n",
            "404/404 [==============================] - 1s 3ms/step - loss: 22.5377 - mae: 3.5907\n",
            "Epoch 4/10\n",
            "404/404 [==============================] - 1s 2ms/step - loss: 18.6390 - mae: 3.2805\n",
            "Epoch 5/10\n",
            "404/404 [==============================] - 1s 2ms/step - loss: 19.7378 - mae: 3.1560\n",
            "Epoch 6/10\n",
            "404/404 [==============================] - 1s 2ms/step - loss: 12.0866 - mae: 2.6499\n",
            "Epoch 7/10\n",
            "404/404 [==============================] - 1s 2ms/step - loss: 11.4887 - mae: 2.4992\n",
            "Epoch 8/10\n",
            "404/404 [==============================] - 1s 2ms/step - loss: 17.8829 - mae: 3.0131\n",
            "Epoch 9/10\n",
            "404/404 [==============================] - 1s 2ms/step - loss: 10.3482 - mae: 2.4482\n",
            "Epoch 10/10\n",
            "404/404 [==============================] - 1s 2ms/step - loss: 8.8395 - mae: 2.2479\n",
            "Test: MSE my network: 13.17\n",
            "Test: MAE my network: 2.66\n"
          ]
        },
        {
          "output_type": "execute_result",
          "data": {
            "text/plain": [
              "Text(0.5, 1.0, 'Boston Housing True vs Predicted prices')"
            ]
          },
          "metadata": {},
          "execution_count": 18
        },
        {
          "output_type": "display_data",
          "data": {
            "text/plain": [
              "<Figure size 432x288 with 1 Axes>"
            ],
            "image/png": "[encoded data removed]"
          },
          "metadata": {
            "needs_background": "light"
          }
        }
      ]
    },
    {
      "cell_type": "markdown",
      "metadata": {
        "id": "aEmpZctXQHIL"
      },
      "source": [
        "### What did we learn?"
      ]
    },
    {
      "cell_type": "code",
      "metadata": {
        "id": "zrW6Zb3CLZv2",
        "colab": {
          "base_uri": "https://localhost:8080/"
        },
        "outputId": "f33ec9ec-0aa9-4214-b8a8-5d6e40826388"
      },
      "source": [
        "weights, bias = model.layers[1].get_weights()\n",
        "\n",
        "print('Weights size: \\n', weights.shape)\n",
        "      \n",
        "print('Weights: \\n', weights,'\\n Bias: \\n' ,bias)"
      ],
      "execution_count": 19,
      "outputs": [
        {
          "output_type": "stream",
          "name": "stdout",
          "text": [
            "Weights size: \n",
            " (128, 128)\n",
            "Weights: \n",
            " [[-0.06575779 -0.06568509  0.13930605 ... -0.1139904  -0.10184991\n",
            "  -0.15832119]\n",
            " [ 0.15069629 -0.1504402   0.12851542 ...  0.12031887  0.08039038\n",
            "  -0.10325678]\n",
            " [ 0.0415563   0.08526886 -0.11202068 ... -0.13784604 -0.09631164\n",
            "   0.01639262]\n",
            " ...\n",
            " [-0.10138599  0.04960106  0.06909559 ... -0.07726973  0.08364981\n",
            "   0.1312828 ]\n",
            " [ 0.09109762  0.06868283  0.09764009 ... -0.06853047 -0.09129561\n",
            "  -0.06450581]\n",
            " [ 0.0864422  -0.02194729  0.04468959 ...  0.16926472  0.0117141\n",
            "   0.05762203]] \n",
            " Bias: \n",
            " [ 0.0880126  -0.06362821 -0.05527529  0.07164807  0.0744288  -0.02914293\n",
            " -0.05775908  0.03384392 -0.02214691  0.02948981 -0.02793006 -0.02299729\n",
            " -0.01903811  0.03378664  0.06316585 -0.01236691 -0.01594118 -0.01014357\n",
            " -0.00687169  0.0985156  -0.00414227  0.06640524 -0.02144485  0.05575802\n",
            " -0.0379825   0.02195502  0.07000182 -0.04294393 -0.02887659 -0.01911088\n",
            " -0.04012004 -0.01988291  0.00496027 -0.0437237  -0.04003064  0.08512603\n",
            "  0.02953183  0.08100967  0.07718367  0.10410761  0.03456594  0.01457275\n",
            " -0.01654069 -0.02537404  0.06682057 -0.0275322  -0.02726211 -0.01750334\n",
            "  0.02200081 -0.01858789  0.0625852   0.00197573  0.08210994 -0.02227459\n",
            " -0.01610102  0.05511973 -0.05279544 -0.02278471 -0.0302829   0.01255679\n",
            "  0.02542238 -0.02048094 -0.00605427 -0.06338815 -0.01438857  0.05517489\n",
            "  0.01439723  0.09362574  0.08543865  0.05418858 -0.03515044 -0.05572008\n",
            " -0.07263293  0.1042603   0.03150304 -0.02114763 -0.01648683  0.0131047\n",
            "  0.04190678 -0.04734874 -0.05533815 -0.03927891 -0.03205228 -0.02848886\n",
            " -0.06179091  0.01496541 -0.02297748 -0.04521784  0.06674118  0.09178899\n",
            " -0.03858787  0.05533402 -0.03640733 -0.03140378  0.03725901  0.07760062\n",
            " -0.0117214   0.07410808 -0.03211714  0.00543151  0.08871762  0.03348587\n",
            " -0.03522256  0.03630102  0.0258997   0.07518308  0.03312595  0.01381931\n",
            "  0.00692678 -0.0171401  -0.04007712  0.0423838  -0.06028624 -0.02447966\n",
            "  0.08980278  0.01969133  0.01359649  0.01140107 -0.0096409   0.09794697\n",
            " -0.04074145  0.06305338  0.01168185 -0.06941196 -0.0362468  -0.02598294\n",
            "  0.03829751  0.01255249]\n"
          ]
        }
      ]
    },
    {
      "cell_type": "code",
      "metadata": {
        "id": "w-e1yqfvPCJD"
      },
      "source": [
        ""
      ],
      "execution_count": 19,
      "outputs": []
    }
  ]
}